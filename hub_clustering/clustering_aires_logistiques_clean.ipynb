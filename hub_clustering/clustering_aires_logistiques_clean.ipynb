{
 "cells": [
  {
   "cell_type": "code",
   "execution_count": 2,
   "metadata": {},
   "outputs": [],
   "source": [
    "import pandas as pd\n",
    "import params as p\n",
    "import utils as f"
   ]
  },
  {
   "cell_type": "markdown",
   "metadata": {},
   "source": []
  },
  {
   "attachments": {},
   "cell_type": "markdown",
   "metadata": {},
   "source": [
    "### Load"
   ]
  },
  {
   "cell_type": "code",
   "execution_count": 3,
   "metadata": {},
   "outputs": [],
   "source": [
    "dataset = f.load_data()"
   ]
  },
  {
   "cell_type": "code",
   "execution_count": 4,
   "metadata": {},
   "outputs": [],
   "source": [
    "dataset = f.filter_dataset(dataset, scenario=\"conservative\")"
   ]
  },
  {
   "cell_type": "code",
   "execution_count": 5,
   "metadata": {},
   "outputs": [],
   "source": [
    "final_dataset, centroids_df = f.run_kmeans(dataset)"
   ]
  },
  {
   "cell_type": "code",
   "execution_count": 8,
   "metadata": {},
   "outputs": [
    {
     "data": {
      "text/html": [
       "<div>\n",
       "<style scoped>\n",
       "    .dataframe tbody tr th:only-of-type {\n",
       "        vertical-align: middle;\n",
       "    }\n",
       "\n",
       "    .dataframe tbody tr th {\n",
       "        vertical-align: top;\n",
       "    }\n",
       "\n",
       "    .dataframe thead th {\n",
       "        text-align: right;\n",
       "    }\n",
       "</style>\n",
       "<table border=\"1\" class=\"dataframe\">\n",
       "  <thead>\n",
       "    <tr style=\"text-align: right;\">\n",
       "      <th></th>\n",
       "      <th>Libellé des régions</th>\n",
       "      <th>Code région</th>\n",
       "      <th>count</th>\n",
       "    </tr>\n",
       "  </thead>\n",
       "  <tbody>\n",
       "    <tr>\n",
       "      <th>0</th>\n",
       "      <td>Île-de-France</td>\n",
       "      <td>11</td>\n",
       "      <td>9</td>\n",
       "    </tr>\n",
       "    <tr>\n",
       "      <th>1</th>\n",
       "      <td>Centre-Val de Loire</td>\n",
       "      <td>24</td>\n",
       "      <td>6</td>\n",
       "    </tr>\n",
       "    <tr>\n",
       "      <th>2</th>\n",
       "      <td>Bourgogne-Franche-Comté</td>\n",
       "      <td>27</td>\n",
       "      <td>3</td>\n",
       "    </tr>\n",
       "    <tr>\n",
       "      <th>3</th>\n",
       "      <td>Normandie</td>\n",
       "      <td>28</td>\n",
       "      <td>3</td>\n",
       "    </tr>\n",
       "    <tr>\n",
       "      <th>4</th>\n",
       "      <td>Hauts-de-France</td>\n",
       "      <td>32</td>\n",
       "      <td>17</td>\n",
       "    </tr>\n",
       "    <tr>\n",
       "      <th>5</th>\n",
       "      <td>Grand-Est</td>\n",
       "      <td>44</td>\n",
       "      <td>7</td>\n",
       "    </tr>\n",
       "    <tr>\n",
       "      <th>6</th>\n",
       "      <td>Pays de la Loire</td>\n",
       "      <td>52</td>\n",
       "      <td>6</td>\n",
       "    </tr>\n",
       "    <tr>\n",
       "      <th>7</th>\n",
       "      <td>Bretagne</td>\n",
       "      <td>53</td>\n",
       "      <td>1</td>\n",
       "    </tr>\n",
       "    <tr>\n",
       "      <th>8</th>\n",
       "      <td>Nouvelle Aquitaine</td>\n",
       "      <td>75</td>\n",
       "      <td>2</td>\n",
       "    </tr>\n",
       "    <tr>\n",
       "      <th>9</th>\n",
       "      <td>Occitanie</td>\n",
       "      <td>76</td>\n",
       "      <td>1</td>\n",
       "    </tr>\n",
       "    <tr>\n",
       "      <th>10</th>\n",
       "      <td>Auvergne-Rhône-Alpes</td>\n",
       "      <td>84</td>\n",
       "      <td>7</td>\n",
       "    </tr>\n",
       "    <tr>\n",
       "      <th>11</th>\n",
       "      <td>Provence-Alpes-Côte d'Azur</td>\n",
       "      <td>93</td>\n",
       "      <td>2</td>\n",
       "    </tr>\n",
       "  </tbody>\n",
       "</table>\n",
       "</div>"
      ],
      "text/plain": [
       "           Libellé des régions Code région  count\n",
       "0                Île-de-France          11      9\n",
       "1          Centre-Val de Loire          24      6\n",
       "2      Bourgogne-Franche-Comté          27      3\n",
       "3                    Normandie          28      3\n",
       "4              Hauts-de-France          32     17\n",
       "5                    Grand-Est          44      7\n",
       "6             Pays de la Loire          52      6\n",
       "7                     Bretagne          53      1\n",
       "8           Nouvelle Aquitaine          75      2\n",
       "9                    Occitanie          76      1\n",
       "10        Auvergne-Rhône-Alpes          84      7\n",
       "11  Provence-Alpes-Côte d'Azur          93      2"
      ]
     },
     "execution_count": 8,
     "metadata": {},
     "output_type": "execute_result"
    }
   ],
   "source": [
    "f.count_centroid_by_region(centroids_df)"
   ]
  },
  {
   "cell_type": "code",
   "execution_count": 9,
   "metadata": {},
   "outputs": [
    {
     "data": {
      "text/plain": [
       "64"
      ]
     },
     "execution_count": 9,
     "metadata": {},
     "output_type": "execute_result"
    }
   ],
   "source": [
    "f.compute_nb_centroids(centroids_df)"
   ]
  },
  {
   "cell_type": "code",
   "execution_count": 11,
   "metadata": {},
   "outputs": [
    {
     "data": {
      "application/vnd.plotly.v1+json": {
       "config": {
        "plotlyServerURL": "https://plot.ly"
       },
       "data": [
        {
         "hovertemplate": "latitude=%{lat}<br>longitude=%{lon}<extra></extra>",
         "lat": [
          47.2733517,
          47.4683081,
          48.0073849,
          47.0617293,
          47.1224436,
          48.3304943,
          47.2971979,
          46.7141667,
          46.6705431,
          47.4413885,
          48.7166545,
          47.8320024,
          48.4438601,
          47.7083642,
          47.9231036,
          47.0811658,
          48.0217518,
          47.9418133,
          46.8203785,
          47.8268972,
          47.5876861,
          49.5032616,
          49.5188282,
          49.2716839,
          49.3831,
          49.4938975,
          49.4068986,
          49.49563,
          49.0268903,
          49.1771038,
          49.4938975,
          51.0347708,
          49.6986186,
          50.3185654,
          50.44741,
          49.8941708,
          49.38,
          50.7531232,
          49.1091667,
          50.9946103,
          50.3906656,
          50.4191721,
          50.3372093,
          49.825,
          50.7235038,
          49.3576636,
          50.3870769,
          49.0859622,
          50.5452102,
          50.4756482,
          49.273664,
          50.6727867,
          50.5292608,
          50.4340484,
          50.1970157,
          50.6540895,
          50.2954202,
          50.7259985,
          50.6904589,
          50.4802102,
          50.5888,
          50.7396639,
          49.2561311,
          48.8430257,
          48.6538754,
          48.8278734,
          48.5885996,
          48.5958681,
          48.6646994,
          48.6099887,
          48.7876,
          48.7089097,
          49.9905624,
          49.1573165,
          48.6137157,
          48.7760957,
          45.18516,
          48.9936994,
          49.044765,
          49.0823913,
          48.6823423,
          48.9254221,
          48.7484048,
          48.7316381,
          48.5671024,
          48.6904522,
          48.977621,
          49.2577886,
          48.0777517,
          49.2577886,
          47.7888815,
          49.1515848,
          48.6217058,
          48.80464,
          48.2971626,
          48.584614,
          49.2256191,
          48.698517,
          48.584614,
          48.4623358,
          49.1706321,
          45.6314982,
          45.8672156,
          45.5250887,
          44.7177,
          45.7764637,
          45.7001,
          44.8753434,
          44.7177,
          45.5789437,
          46.1251695,
          45.7774551,
          45.8306,
          45.9864749,
          44.7555185,
          45.5574829,
          44.5579391,
          43.4162729,
          44.0349281,
          43.6384838,
          43.6405237,
          43.606758,
          44.0066403,
          43.3890531,
          44.0023187,
          43.6121001,
          43.6044622,
          43.78251,
          46.8157,
          47.2841003,
          47.2380222,
          46.3036683,
          47.2977106,
          44.7411574,
          44.9088982,
          44.9167311,
          45.8354243,
          48.0245814
         ],
         "legendgroup": "",
         "lon": [
          -2.2138905,
          -0.4932941,
          0.1967849,
          -0.8801349,
          -1.6345992,
          1.6561556,
          -1.4921233,
          -1.3133333,
          -1.4269698,
          0.7456752,
          1.3650922,
          1.9682549,
          1.4881434,
          1.5062706,
          2.0078601,
          2.399125,
          2.738158032225153,
          1.8182308,
          1.6770956,
          1.6968055,
          1.3337639,
          0.2631791,
          0.534411,
          1.2128992,
          1.09163,
          0.1079732,
          1.0507926,
          0.3599616,
          1.1510164,
          -0.3202231,
          0.1079732,
          2.3772525,
          2.7930755,
          3.4496843,
          2.9068246,
          2.2956951,
          3.3594444,
          3.1209016,
          3.3483333,
          2.2192457,
          3.0462262,
          2.9469339,
          3.0224298,
          3.2705556,
          3.1605714,
          2.7176908,
          3.6011231,
          2.7442236,
          3.0252819,
          2.8671553,
          2.5188916,
          2.8965721,
          2.6402097,
          2.9844016,
          3.2209687,
          3.1839429,
          3.914409,
          1.6118771,
          2.9104189,
          3.0105187,
          3.10997,
          2.3062068,
          2.4342569,
          2.6973858,
          2.4151151,
          2.6584023,
          2.4544951,
          2.5798953,
          2.564877,
          2.3075288,
          2.39164,
          2.8095273,
          2.8478956,
          2.3301301,
          2.3805119,
          1.9988356,
          1.19692,
          2.6623623,
          2.1059841,
          2.5034402,
          2.2370177,
          2.2940122,
          2.3472665,
          2.3268669,
          2.6252499,
          2.6166737,
          4.3366642,
          4.031926,
          7.3579641,
          4.031926,
          7.5094906,
          6.1519224,
          6.1609279,
          4.25947,
          4.0746257,
          7.7507127,
          6.2197994,
          7.7837447,
          7.7507127,
          7.4817123,
          5.348031,
          5.1106322,
          5.9425679,
          4.2594811,
          4.54685,
          5.0044767,
          4.84935,
          4.8774936,
          4.54685,
          4.8114503,
          4.7378381,
          3.0819427,
          5.28959,
          4.726611,
          4.7485628,
          5.0808076,
          4.750318,
          5.2146275,
          4.9968733,
          4.8111564,
          5.0980225,
          5.063379,
          4.8725016,
          4.8026354,
          4.9272616,
          1.3282149,
          1.4442469,
          1.3590892,
          4.8862,
          5.0574798,
          6.0243622,
          4.8322266,
          5.1382218,
          -0.6841225,
          -0.6300363,
          -0.4271005,
          1.2644847,
          -1.7471629
         ],
         "marker": {
          "color": "#636efa"
         },
         "mode": "markers",
         "name": "",
         "showlegend": false,
         "subplot": "mapbox",
         "type": "scattermapbox"
        },
        {
         "lat": [
          47.2733517,
          48.3304943,
          48.0073849,
          47.20982075,
          47.2650187,
          46.6923549,
          47.4413885,
          48.5802573,
          47.880954125,
          46.95077215,
          47.648025149999995,
          48.0217518,
          49.1771038,
          49.501102960000004,
          49.2721432,
          50.5670051,
          50.35282115,
          50.6540895,
          50.63083546666667,
          50.7259985,
          50.45129778,
          50.7396639,
          50.2954202,
          49.825,
          51.01469055,
          49.8941708,
          49.243355225,
          49.24458335,
          50.738313500000004,
          50.363937449999995,
          50.1970157,
          49.6986186,
          48.639980525,
          48.91043035,
          48.62134434,
          48.79826625,
          49.03804535,
          48.7932696,
          49.9905624,
          49.1573165,
          45.18516,
          49.188601950000006,
          47.9333166,
          49.07445955,
          48.2971626,
          49.1706321,
          48.6217058,
          48.582520200000005,
          45.8672156,
          45.7774551,
          45.6990112,
          44.7248402,
          45.63952185,
          45.5250887,
          46.055822199999994,
          43.538218300000004,
          44.014629033333335,
          43.66635743333333,
          46.559684149999995,
          47.29090545,
          47.2380222,
          44.855595566666665,
          45.8354243,
          48.0245814
         ],
         "lon": [
          -2.2138905,
          1.6561556000000002,
          0.19678489999999993,
          -1.56336125,
          -0.6867145,
          -1.37015155,
          0.7456752,
          1.4266178,
          1.872787825,
          2.0381103,
          1.42001725,
          2.738158032225153,
          -0.3202231,
          0.27469962,
          1.12658455,
          3.06762595,
          3.5254037,
          3.1839429,
          2.8157335666666667,
          1.6118771,
          2.94316682,
          2.3062068,
          3.914409,
          3.2705556,
          2.2982491,
          2.2956951,
          2.603765725,
          3.35388885,
          3.1407365,
          3.034328,
          3.2209687,
          2.7930755,
          2.335043375,
          2.05240985,
          2.5682382,
          2.3399464,
          2.58290125,
          2.7217718,
          2.8478956,
          2.3301301,
          1.19692,
          6.1858609,
          7.43372735,
          4.164996550000001,
          4.0746257,
          5.348031,
          6.1609279,
          7.6917206,
          5.9425679,
          3.0819427,
          5.121376625,
          4.69401488,
          4.83040015,
          4.2594811,
          4.73222455,
          4.9979641599999995,
          4.932212166666666,
          1.3771836666666668,
          4.8592133,
          5.0978508,
          6.0243622,
          -0.5804197666666666,
          1.2644847,
          -1.7471629
         ],
         "marker": {
          "color": "red",
          "size": 6
         },
         "showlegend": true,
         "type": "scattermapbox"
        }
       ],
       "layout": {
        "height": 800,
        "legend": {
         "tracegroupgap": 0
        },
        "mapbox": {
         "center": {
          "lat": 47.98759764565217,
          "lon": 2.908094367624821
         },
         "domain": {
          "x": [
           0,
           1
          ],
          "y": [
           0,
           1
          ]
         },
         "style": "open-street-map",
         "zoom": 8
        },
        "margin": {
         "b": 0,
         "l": 0,
         "r": 0,
         "t": 0
        },
        "template": {
         "data": {
          "bar": [
           {
            "error_x": {
             "color": "#2a3f5f"
            },
            "error_y": {
             "color": "#2a3f5f"
            },
            "marker": {
             "line": {
              "color": "#E5ECF6",
              "width": 0.5
             },
             "pattern": {
              "fillmode": "overlay",
              "size": 10,
              "solidity": 0.2
             }
            },
            "type": "bar"
           }
          ],
          "barpolar": [
           {
            "marker": {
             "line": {
              "color": "#E5ECF6",
              "width": 0.5
             },
             "pattern": {
              "fillmode": "overlay",
              "size": 10,
              "solidity": 0.2
             }
            },
            "type": "barpolar"
           }
          ],
          "carpet": [
           {
            "aaxis": {
             "endlinecolor": "#2a3f5f",
             "gridcolor": "white",
             "linecolor": "white",
             "minorgridcolor": "white",
             "startlinecolor": "#2a3f5f"
            },
            "baxis": {
             "endlinecolor": "#2a3f5f",
             "gridcolor": "white",
             "linecolor": "white",
             "minorgridcolor": "white",
             "startlinecolor": "#2a3f5f"
            },
            "type": "carpet"
           }
          ],
          "choropleth": [
           {
            "colorbar": {
             "outlinewidth": 0,
             "ticks": ""
            },
            "type": "choropleth"
           }
          ],
          "contour": [
           {
            "colorbar": {
             "outlinewidth": 0,
             "ticks": ""
            },
            "colorscale": [
             [
              0,
              "#0d0887"
             ],
             [
              0.1111111111111111,
              "#46039f"
             ],
             [
              0.2222222222222222,
              "#7201a8"
             ],
             [
              0.3333333333333333,
              "#9c179e"
             ],
             [
              0.4444444444444444,
              "#bd3786"
             ],
             [
              0.5555555555555556,
              "#d8576b"
             ],
             [
              0.6666666666666666,
              "#ed7953"
             ],
             [
              0.7777777777777778,
              "#fb9f3a"
             ],
             [
              0.8888888888888888,
              "#fdca26"
             ],
             [
              1,
              "#f0f921"
             ]
            ],
            "type": "contour"
           }
          ],
          "contourcarpet": [
           {
            "colorbar": {
             "outlinewidth": 0,
             "ticks": ""
            },
            "type": "contourcarpet"
           }
          ],
          "heatmap": [
           {
            "colorbar": {
             "outlinewidth": 0,
             "ticks": ""
            },
            "colorscale": [
             [
              0,
              "#0d0887"
             ],
             [
              0.1111111111111111,
              "#46039f"
             ],
             [
              0.2222222222222222,
              "#7201a8"
             ],
             [
              0.3333333333333333,
              "#9c179e"
             ],
             [
              0.4444444444444444,
              "#bd3786"
             ],
             [
              0.5555555555555556,
              "#d8576b"
             ],
             [
              0.6666666666666666,
              "#ed7953"
             ],
             [
              0.7777777777777778,
              "#fb9f3a"
             ],
             [
              0.8888888888888888,
              "#fdca26"
             ],
             [
              1,
              "#f0f921"
             ]
            ],
            "type": "heatmap"
           }
          ],
          "heatmapgl": [
           {
            "colorbar": {
             "outlinewidth": 0,
             "ticks": ""
            },
            "colorscale": [
             [
              0,
              "#0d0887"
             ],
             [
              0.1111111111111111,
              "#46039f"
             ],
             [
              0.2222222222222222,
              "#7201a8"
             ],
             [
              0.3333333333333333,
              "#9c179e"
             ],
             [
              0.4444444444444444,
              "#bd3786"
             ],
             [
              0.5555555555555556,
              "#d8576b"
             ],
             [
              0.6666666666666666,
              "#ed7953"
             ],
             [
              0.7777777777777778,
              "#fb9f3a"
             ],
             [
              0.8888888888888888,
              "#fdca26"
             ],
             [
              1,
              "#f0f921"
             ]
            ],
            "type": "heatmapgl"
           }
          ],
          "histogram": [
           {
            "marker": {
             "pattern": {
              "fillmode": "overlay",
              "size": 10,
              "solidity": 0.2
             }
            },
            "type": "histogram"
           }
          ],
          "histogram2d": [
           {
            "colorbar": {
             "outlinewidth": 0,
             "ticks": ""
            },
            "colorscale": [
             [
              0,
              "#0d0887"
             ],
             [
              0.1111111111111111,
              "#46039f"
             ],
             [
              0.2222222222222222,
              "#7201a8"
             ],
             [
              0.3333333333333333,
              "#9c179e"
             ],
             [
              0.4444444444444444,
              "#bd3786"
             ],
             [
              0.5555555555555556,
              "#d8576b"
             ],
             [
              0.6666666666666666,
              "#ed7953"
             ],
             [
              0.7777777777777778,
              "#fb9f3a"
             ],
             [
              0.8888888888888888,
              "#fdca26"
             ],
             [
              1,
              "#f0f921"
             ]
            ],
            "type": "histogram2d"
           }
          ],
          "histogram2dcontour": [
           {
            "colorbar": {
             "outlinewidth": 0,
             "ticks": ""
            },
            "colorscale": [
             [
              0,
              "#0d0887"
             ],
             [
              0.1111111111111111,
              "#46039f"
             ],
             [
              0.2222222222222222,
              "#7201a8"
             ],
             [
              0.3333333333333333,
              "#9c179e"
             ],
             [
              0.4444444444444444,
              "#bd3786"
             ],
             [
              0.5555555555555556,
              "#d8576b"
             ],
             [
              0.6666666666666666,
              "#ed7953"
             ],
             [
              0.7777777777777778,
              "#fb9f3a"
             ],
             [
              0.8888888888888888,
              "#fdca26"
             ],
             [
              1,
              "#f0f921"
             ]
            ],
            "type": "histogram2dcontour"
           }
          ],
          "mesh3d": [
           {
            "colorbar": {
             "outlinewidth": 0,
             "ticks": ""
            },
            "type": "mesh3d"
           }
          ],
          "parcoords": [
           {
            "line": {
             "colorbar": {
              "outlinewidth": 0,
              "ticks": ""
             }
            },
            "type": "parcoords"
           }
          ],
          "pie": [
           {
            "automargin": true,
            "type": "pie"
           }
          ],
          "scatter": [
           {
            "fillpattern": {
             "fillmode": "overlay",
             "size": 10,
             "solidity": 0.2
            },
            "type": "scatter"
           }
          ],
          "scatter3d": [
           {
            "line": {
             "colorbar": {
              "outlinewidth": 0,
              "ticks": ""
             }
            },
            "marker": {
             "colorbar": {
              "outlinewidth": 0,
              "ticks": ""
             }
            },
            "type": "scatter3d"
           }
          ],
          "scattercarpet": [
           {
            "marker": {
             "colorbar": {
              "outlinewidth": 0,
              "ticks": ""
             }
            },
            "type": "scattercarpet"
           }
          ],
          "scattergeo": [
           {
            "marker": {
             "colorbar": {
              "outlinewidth": 0,
              "ticks": ""
             }
            },
            "type": "scattergeo"
           }
          ],
          "scattergl": [
           {
            "marker": {
             "colorbar": {
              "outlinewidth": 0,
              "ticks": ""
             }
            },
            "type": "scattergl"
           }
          ],
          "scattermapbox": [
           {
            "marker": {
             "colorbar": {
              "outlinewidth": 0,
              "ticks": ""
             }
            },
            "type": "scattermapbox"
           }
          ],
          "scatterpolar": [
           {
            "marker": {
             "colorbar": {
              "outlinewidth": 0,
              "ticks": ""
             }
            },
            "type": "scatterpolar"
           }
          ],
          "scatterpolargl": [
           {
            "marker": {
             "colorbar": {
              "outlinewidth": 0,
              "ticks": ""
             }
            },
            "type": "scatterpolargl"
           }
          ],
          "scatterternary": [
           {
            "marker": {
             "colorbar": {
              "outlinewidth": 0,
              "ticks": ""
             }
            },
            "type": "scatterternary"
           }
          ],
          "surface": [
           {
            "colorbar": {
             "outlinewidth": 0,
             "ticks": ""
            },
            "colorscale": [
             [
              0,
              "#0d0887"
             ],
             [
              0.1111111111111111,
              "#46039f"
             ],
             [
              0.2222222222222222,
              "#7201a8"
             ],
             [
              0.3333333333333333,
              "#9c179e"
             ],
             [
              0.4444444444444444,
              "#bd3786"
             ],
             [
              0.5555555555555556,
              "#d8576b"
             ],
             [
              0.6666666666666666,
              "#ed7953"
             ],
             [
              0.7777777777777778,
              "#fb9f3a"
             ],
             [
              0.8888888888888888,
              "#fdca26"
             ],
             [
              1,
              "#f0f921"
             ]
            ],
            "type": "surface"
           }
          ],
          "table": [
           {
            "cells": {
             "fill": {
              "color": "#EBF0F8"
             },
             "line": {
              "color": "white"
             }
            },
            "header": {
             "fill": {
              "color": "#C8D4E3"
             },
             "line": {
              "color": "white"
             }
            },
            "type": "table"
           }
          ]
         },
         "layout": {
          "annotationdefaults": {
           "arrowcolor": "#2a3f5f",
           "arrowhead": 0,
           "arrowwidth": 1
          },
          "autotypenumbers": "strict",
          "coloraxis": {
           "colorbar": {
            "outlinewidth": 0,
            "ticks": ""
           }
          },
          "colorscale": {
           "diverging": [
            [
             0,
             "#8e0152"
            ],
            [
             0.1,
             "#c51b7d"
            ],
            [
             0.2,
             "#de77ae"
            ],
            [
             0.3,
             "#f1b6da"
            ],
            [
             0.4,
             "#fde0ef"
            ],
            [
             0.5,
             "#f7f7f7"
            ],
            [
             0.6,
             "#e6f5d0"
            ],
            [
             0.7,
             "#b8e186"
            ],
            [
             0.8,
             "#7fbc41"
            ],
            [
             0.9,
             "#4d9221"
            ],
            [
             1,
             "#276419"
            ]
           ],
           "sequential": [
            [
             0,
             "#0d0887"
            ],
            [
             0.1111111111111111,
             "#46039f"
            ],
            [
             0.2222222222222222,
             "#7201a8"
            ],
            [
             0.3333333333333333,
             "#9c179e"
            ],
            [
             0.4444444444444444,
             "#bd3786"
            ],
            [
             0.5555555555555556,
             "#d8576b"
            ],
            [
             0.6666666666666666,
             "#ed7953"
            ],
            [
             0.7777777777777778,
             "#fb9f3a"
            ],
            [
             0.8888888888888888,
             "#fdca26"
            ],
            [
             1,
             "#f0f921"
            ]
           ],
           "sequentialminus": [
            [
             0,
             "#0d0887"
            ],
            [
             0.1111111111111111,
             "#46039f"
            ],
            [
             0.2222222222222222,
             "#7201a8"
            ],
            [
             0.3333333333333333,
             "#9c179e"
            ],
            [
             0.4444444444444444,
             "#bd3786"
            ],
            [
             0.5555555555555556,
             "#d8576b"
            ],
            [
             0.6666666666666666,
             "#ed7953"
            ],
            [
             0.7777777777777778,
             "#fb9f3a"
            ],
            [
             0.8888888888888888,
             "#fdca26"
            ],
            [
             1,
             "#f0f921"
            ]
           ]
          },
          "colorway": [
           "#636efa",
           "#EF553B",
           "#00cc96",
           "#ab63fa",
           "#FFA15A",
           "#19d3f3",
           "#FF6692",
           "#B6E880",
           "#FF97FF",
           "#FECB52"
          ],
          "font": {
           "color": "#2a3f5f"
          },
          "geo": {
           "bgcolor": "white",
           "lakecolor": "white",
           "landcolor": "#E5ECF6",
           "showlakes": true,
           "showland": true,
           "subunitcolor": "white"
          },
          "hoverlabel": {
           "align": "left"
          },
          "hovermode": "closest",
          "mapbox": {
           "style": "light"
          },
          "paper_bgcolor": "white",
          "plot_bgcolor": "#E5ECF6",
          "polar": {
           "angularaxis": {
            "gridcolor": "white",
            "linecolor": "white",
            "ticks": ""
           },
           "bgcolor": "#E5ECF6",
           "radialaxis": {
            "gridcolor": "white",
            "linecolor": "white",
            "ticks": ""
           }
          },
          "scene": {
           "xaxis": {
            "backgroundcolor": "#E5ECF6",
            "gridcolor": "white",
            "gridwidth": 2,
            "linecolor": "white",
            "showbackground": true,
            "ticks": "",
            "zerolinecolor": "white"
           },
           "yaxis": {
            "backgroundcolor": "#E5ECF6",
            "gridcolor": "white",
            "gridwidth": 2,
            "linecolor": "white",
            "showbackground": true,
            "ticks": "",
            "zerolinecolor": "white"
           },
           "zaxis": {
            "backgroundcolor": "#E5ECF6",
            "gridcolor": "white",
            "gridwidth": 2,
            "linecolor": "white",
            "showbackground": true,
            "ticks": "",
            "zerolinecolor": "white"
           }
          },
          "shapedefaults": {
           "line": {
            "color": "#2a3f5f"
           }
          },
          "ternary": {
           "aaxis": {
            "gridcolor": "white",
            "linecolor": "white",
            "ticks": ""
           },
           "baxis": {
            "gridcolor": "white",
            "linecolor": "white",
            "ticks": ""
           },
           "bgcolor": "#E5ECF6",
           "caxis": {
            "gridcolor": "white",
            "linecolor": "white",
            "ticks": ""
           }
          },
          "title": {
           "x": 0.05
          },
          "xaxis": {
           "automargin": true,
           "gridcolor": "white",
           "linecolor": "white",
           "ticks": "",
           "title": {
            "standoff": 15
           },
           "zerolinecolor": "white",
           "zerolinewidth": 2
          },
          "yaxis": {
           "automargin": true,
           "gridcolor": "white",
           "linecolor": "white",
           "ticks": "",
           "title": {
            "standoff": 15
           },
           "zerolinecolor": "white",
           "zerolinewidth": 2
          }
         }
        },
        "width": 800
       }
      }
     },
     "metadata": {},
     "output_type": "display_data"
    }
   ],
   "source": [
    "f.visualize_on_map(final_dataset, centroids_df)"
   ]
  }
 ],
 "metadata": {
  "kernelspec": {
   "display_name": "al",
   "language": "python",
   "name": "python3"
  },
  "language_info": {
   "codemirror_mode": {
    "name": "ipython",
    "version": 3
   },
   "file_extension": ".py",
   "mimetype": "text/x-python",
   "name": "python",
   "nbconvert_exporter": "python",
   "pygments_lexer": "ipython3",
   "version": "3.8.5"
  },
  "orig_nbformat": 4,
  "vscode": {
   "interpreter": {
    "hash": "242e2cb0e879e495bff69ece6e85634d0681df54e738f6c85d0f860f29b8d684"
   }
  }
 },
 "nbformat": 4,
 "nbformat_minor": 2
}
