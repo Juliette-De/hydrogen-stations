{
 "cells": [
  {
   "cell_type": "code",
   "execution_count": 81,
   "metadata": {},
   "outputs": [],
   "source": [
    "\n",
    "import pandas as pd\n",
    "import plotly.graph_objects as go\n",
    "import plotly.express as px\n",
    "\n",
    "import sys\n",
    "\n",
    "sys.path.append(\"/Users/antoinerazeghi/Documents/Projects/AirLiquide/airliquide/\")\n",
    "\n",
    "import hub_clustering.params as p\n",
    "import hub_clustering.utils as f\n",
    "import hub_clustering.hubstation_sizer as sizer\n",
    "\n",
    "scenario = \"optimistic\"\n",
    "\n",
    "\n",
    "dataset = f.load_data()\n",
    "df = f.filter_dataset(dataset, scenario=scenario)\n",
    "final_dataset, centroids_df = f.run_kmeans(df)\n",
    "\n",
    "centroids_df.reset_index(inplace=True)\n",
    "centroids_df.columns = [\"centroid_id\", \"region\", \"latitude\", \"longitude\"]\n",
    "centroids_df.sort_values(by=[\"region\", \"centroid_id\"])\n",
    "\n",
    "h2_kg_demand = (\n",
    "    df[\"Surface totale\"]\n",
    "    .pipe(sizer.compute_total_volume)\n",
    "    .pipe(sizer.compute_daily_stock_volume_gone)\n",
    "    .pipe(sizer.compute_daily_nb_trucks)\n",
    "    .pipe(sizer.compute_daily_nb_h2_trucks)\n",
    "    .pipe(sizer.compute_daily_h2_demand)\n",
    ")\n",
    "\n",
    "final_dataset[\"h2_kg_demand\"] = h2_kg_demand\n",
    "\n",
    "df_stations_type = final_dataset.groupby(\n",
    "    [\"Région d'implantation\", \"centroid\"], as_index=False\n",
    ").agg({\"centroid_coord\": \"first\", \"h2_kg_demand\": \"sum\"})\n",
    "\n",
    "df_stations_type[\"stations_type\"] = df_stations_type[\"h2_kg_demand\"].apply(\n",
    "    sizer.stations_type\n",
    ")\n"
   ]
  },
  {
   "cell_type": "code",
   "execution_count": 85,
   "metadata": {},
   "outputs": [
    {
     "data": {
      "text/html": [
       "<div>\n",
       "<style scoped>\n",
       "    .dataframe tbody tr th:only-of-type {\n",
       "        vertical-align: middle;\n",
       "    }\n",
       "\n",
       "    .dataframe tbody tr th {\n",
       "        vertical-align: top;\n",
       "    }\n",
       "\n",
       "    .dataframe thead th {\n",
       "        text-align: right;\n",
       "    }\n",
       "</style>\n",
       "<table border=\"1\" class=\"dataframe\">\n",
       "  <thead>\n",
       "    <tr style=\"text-align: right;\">\n",
       "      <th></th>\n",
       "      <th>centroid_id</th>\n",
       "      <th>region</th>\n",
       "      <th>latitude</th>\n",
       "      <th>longitude</th>\n",
       "    </tr>\n",
       "  </thead>\n",
       "  <tbody>\n",
       "    <tr>\n",
       "      <th>0</th>\n",
       "      <td>0</td>\n",
       "      <td>52</td>\n",
       "      <td>48.110725</td>\n",
       "      <td>-0.711265</td>\n",
       "    </tr>\n",
       "    <tr>\n",
       "      <th>1</th>\n",
       "      <td>1</td>\n",
       "      <td>52</td>\n",
       "      <td>47.273352</td>\n",
       "      <td>-2.213891</td>\n",
       "    </tr>\n",
       "    <tr>\n",
       "      <th>2</th>\n",
       "      <td>2</td>\n",
       "      <td>52</td>\n",
       "      <td>47.311116</td>\n",
       "      <td>-1.115343</td>\n",
       "    </tr>\n",
       "    <tr>\n",
       "      <th>3</th>\n",
       "      <td>3</td>\n",
       "      <td>52</td>\n",
       "      <td>46.998497</td>\n",
       "      <td>-0.868969</td>\n",
       "    </tr>\n",
       "    <tr>\n",
       "      <th>4</th>\n",
       "      <td>4</td>\n",
       "      <td>52</td>\n",
       "      <td>46.777473</td>\n",
       "      <td>-1.345666</td>\n",
       "    </tr>\n",
       "    <tr>\n",
       "      <th>...</th>\n",
       "      <td>...</td>\n",
       "      <td>...</td>\n",
       "      <td>...</td>\n",
       "      <td>...</td>\n",
       "    </tr>\n",
       "    <tr>\n",
       "      <th>178</th>\n",
       "      <td>178</td>\n",
       "      <td>27</td>\n",
       "      <td>46.661640</td>\n",
       "      <td>4.853065</td>\n",
       "    </tr>\n",
       "    <tr>\n",
       "      <th>179</th>\n",
       "      <td>179</td>\n",
       "      <td>27</td>\n",
       "      <td>47.749799</td>\n",
       "      <td>3.666738</td>\n",
       "    </tr>\n",
       "    <tr>\n",
       "      <th>180</th>\n",
       "      <td>180</td>\n",
       "      <td>27</td>\n",
       "      <td>45.195018</td>\n",
       "      <td>5.686962</td>\n",
       "    </tr>\n",
       "    <tr>\n",
       "      <th>181</th>\n",
       "      <td>181</td>\n",
       "      <td>27</td>\n",
       "      <td>47.231824</td>\n",
       "      <td>5.018804</td>\n",
       "    </tr>\n",
       "    <tr>\n",
       "      <th>182</th>\n",
       "      <td>182</td>\n",
       "      <td>27</td>\n",
       "      <td>46.431063</td>\n",
       "      <td>5.725573</td>\n",
       "    </tr>\n",
       "  </tbody>\n",
       "</table>\n",
       "<p>183 rows × 4 columns</p>\n",
       "</div>"
      ],
      "text/plain": [
       "     centroid_id  region   latitude  longitude\n",
       "0              0      52  48.110725  -0.711265\n",
       "1              1      52  47.273352  -2.213891\n",
       "2              2      52  47.311116  -1.115343\n",
       "3              3      52  46.998497  -0.868969\n",
       "4              4      52  46.777473  -1.345666\n",
       "..           ...     ...        ...        ...\n",
       "178          178      27  46.661640   4.853065\n",
       "179          179      27  47.749799   3.666738\n",
       "180          180      27  45.195018   5.686962\n",
       "181          181      27  47.231824   5.018804\n",
       "182          182      27  46.431063   5.725573\n",
       "\n",
       "[183 rows x 4 columns]"
      ]
     },
     "execution_count": 85,
     "metadata": {},
     "output_type": "execute_result"
    }
   ],
   "source": [
    "centroids_df"
   ]
  },
  {
   "cell_type": "code",
   "execution_count": 89,
   "metadata": {},
   "outputs": [],
   "source": [
    "df_stations_type = df_stations_type[[\"h2_kg_demand\", \"stations_type\"]].merge(centroids_df, left_index=True, right_on=\"centroid_id\")"
   ]
  },
  {
   "cell_type": "code",
   "execution_count": 90,
   "metadata": {},
   "outputs": [],
   "source": [
    "df_stations_type[\"station_utilization_rate\"] = df_stations_type.apply(\n",
    "    lambda x: sizer.station_utilization_rate(x.h2_kg_demand, x.stations_type), axis=1\n",
    ")\n",
    "\n",
    "fig = sizer.visualize_station_types_on_map(df_stations_type)"
   ]
  },
  {
   "cell_type": "code",
   "execution_count": 91,
   "metadata": {},
   "outputs": [
    {
     "data": {
      "application/vnd.plotly.v1+json": {
       "config": {
        "plotlyServerURL": "https://plot.ly"
       },
       "data": [
        {
         "hovertemplate": "<b>%{hovertext}</b><br><br>lat=%{lat}<br>lon=%{lon}<extra></extra>",
         "hovertext": [
          "Util. rate = 59.14%",
          "Util. rate = 62.27%",
          "Util. rate = 170.69%",
          "Util. rate = 67.2%",
          "Util. rate = 28.67%",
          "Util. rate = 53.76%",
          "Util. rate = 53.76%",
          "Util. rate = 69.89%",
          "Util. rate = 46.59%",
          "Util. rate = 17.92%",
          "Util. rate = 55.55%",
          "Util. rate = 69.89%",
          "Util. rate = 90.5%",
          "Util. rate = 60.93%",
          "Util. rate = 72.13%",
          "Util. rate = 72.58%",
          "Util. rate = 56.45%",
          "Util. rate = 17.92%",
          "Util. rate = 57.34%",
          "Util. rate = 88.7%",
          "Util. rate = 91.39%",
          "Util. rate = 26.88%",
          "Util. rate = 25.09%",
          "Util. rate = 12.54%",
          "Util. rate = 12.54%",
          "Util. rate = 73.47%",
          "Util. rate = 19.71%",
          "Util. rate = 50.18%",
          "Util. rate = 12.54%",
          "Util. rate = 16.13%",
          "Util. rate = 44.8%",
          "Util. rate = 10.75%",
          "Util. rate = 71.68%",
          "Util. rate = 65.41%",
          "Util. rate = 43.01%",
          "Util. rate = 41.22%",
          "Util. rate = 71.23%",
          "Util. rate = 12.54%",
          "Util. rate = 8.96%",
          "Util. rate = 21.5%",
          "Util. rate = 23.3%",
          "Util. rate = 39.42%",
          "Util. rate = 12.54%",
          "Util. rate = 10.75%",
          "Util. rate = 81.54%",
          "Util. rate = 68.1%",
          "Util. rate = 7.17%",
          "Util. rate = 68.99%",
          "Util. rate = 14.34%",
          "Util. rate = 7.17%",
          "Util. rate = 76.16%",
          "Util. rate = 86.02%",
          "Util. rate = 97.66%",
          "Util. rate = 10.75%",
          "Util. rate = 19.71%",
          "Util. rate = 19.71%",
          "Util. rate = 65.41%",
          "Util. rate = 78.85%",
          "Util. rate = 21.5%",
          "Util. rate = 30.46%",
          "Util. rate = 16.13%",
          "Util. rate = 51.97%",
          "Util. rate = 28.67%",
          "Util. rate = 52.86%",
          "Util. rate = 82.43%",
          "Util. rate = 52.86%",
          "Util. rate = 52.86%",
          "Util. rate = 57.34%",
          "Util. rate = 91.39%",
          "Util. rate = 34.05%",
          "Util. rate = 67.65%",
          "Util. rate = 73.47%",
          "Util. rate = 59.14%",
          "Util. rate = 57.34%",
          "Util. rate = 77.06%",
          "Util. rate = 17.92%",
          "Util. rate = 48.38%",
          "Util. rate = 51.07%",
          "Util. rate = 59.14%",
          "Util. rate = 16.13%",
          "Util. rate = 61.82%",
          "Util. rate = 95.42%",
          "Util. rate = 21.5%",
          "Util. rate = 37.63%",
          "Util. rate = 94.98%",
          "Util. rate = 21.5%",
          "Util. rate = 66.3%",
          "Util. rate = 65.41%",
          "Util. rate = 89.6%",
          "Util. rate = 78.85%",
          "Util. rate = 57.34%",
          "Util. rate = 98.56%",
          "Util. rate = 80.64%",
          "Util. rate = 17.92%",
          "Util. rate = 64.51%",
          "Util. rate = 52.86%",
          "Util. rate = 21.5%",
          "Util. rate = 88.7%",
          "Util. rate = 17.92%",
          "Util. rate = 14.34%",
          "Util. rate = 14.34%",
          "Util. rate = 21.5%",
          "Util. rate = 21.5%",
          "Util. rate = 82.43%",
          "Util. rate = 12.54%",
          "Util. rate = 87.81%",
          "Util. rate = 51.97%",
          "Util. rate = 93.18%",
          "Util. rate = 17.92%",
          "Util. rate = 57.34%",
          "Util. rate = 12.54%",
          "Util. rate = 61.38%",
          "Util. rate = 32.26%",
          "Util. rate = 50.18%",
          "Util. rate = 46.59%",
          "Util. rate = 63.62%",
          "Util. rate = 84.22%",
          "Util. rate = 48.38%",
          "Util. rate = 57.34%",
          "Util. rate = 60.03%",
          "Util. rate = 23.3%",
          "Util. rate = 43.01%",
          "Util. rate = 57.34%",
          "Util. rate = 52.86%",
          "Util. rate = 32.26%",
          "Util. rate = 21.5%",
          "Util. rate = 5.38%",
          "Util. rate = 43.01%",
          "Util. rate = 25.09%",
          "Util. rate = 12.54%",
          "Util. rate = 39.42%",
          "Util. rate = 37.63%",
          "Util. rate = 16.13%",
          "Util. rate = 37.63%",
          "Util. rate = 25.09%",
          "Util. rate = 51.97%",
          "Util. rate = 8.96%",
          "Util. rate = 59.14%",
          "Util. rate = 51.97%",
          "Util. rate = 12.54%",
          "Util. rate = 51.97%",
          "Util. rate = 80.64%",
          "Util. rate = 75.26%",
          "Util. rate = 75.26%",
          "Util. rate = 96.77%",
          "Util. rate = 26.88%",
          "Util. rate = 10.75%",
          "Util. rate = 54.66%",
          "Util. rate = 32.26%",
          "Util. rate = 32.26%",
          "Util. rate = 62.72%",
          "Util. rate = 64.51%",
          "Util. rate = 91.39%",
          "Util. rate = 57.34%",
          "Util. rate = 17.92%",
          "Util. rate = 19.71%",
          "Util. rate = 39.42%",
          "Util. rate = 55.55%",
          "Util. rate = 28.67%",
          "Util. rate = 127.68%",
          "Util. rate = 82.43%",
          "Util. rate = 16.13%",
          "Util. rate = 10.75%",
          "Util. rate = 26.88%",
          "Util. rate = 64.51%",
          "Util. rate = 72.58%",
          "Util. rate = 43.01%",
          "Util. rate = 60.48%",
          "Util. rate = 73.47%",
          "Util. rate = 80.64%",
          "Util. rate = 26.88%",
          "Util. rate = 58.24%",
          "Util. rate = 96.77%",
          "Util. rate = 77.06%",
          "Util. rate = 17.92%",
          "Util. rate = 77.06%",
          "Util. rate = 16.13%",
          "Util. rate = 65.41%",
          "Util. rate = 16.13%",
          "Util. rate = 19.71%",
          "Util. rate = 79.74%",
          "Util. rate = 68.1%",
          "Util. rate = 74.82%"
         ],
         "lat": [
          48.1107253,
          47.2733517,
          47.31111565,
          46.99849746,
          46.77747323333333,
          48.0073849,
          47.4972822875,
          47.20602008,
          46.431937,
          48.3304943,
          49.44561,
          47.3898152,
          48.5500968,
          47.6410716,
          47.648025149999995,
          48.2865494,
          46.93530816,
          48.321809,
          47.3511161,
          47.4413885,
          47.4432628,
          48.58967438,
          47.8803224,
          48.0217518,
          47.0811658,
          47.89987536666666,
          49.29928105,
          49.15859605,
          49.38376372,
          49.4661002,
          49.9956745,
          48.74289,
          50.0491699,
          49.5072291,
          49.18029815,
          48.8517468,
          48.66492313333334,
          48.8437504,
          48.8551389,
          49.05735405,
          48.3849647,
          45.18516,
          48.7876,
          48.56284156666667,
          49.9905624,
          46.6591772,
          49.1573165,
          48.6461655,
          49.017311899999996,
          48.724620099999996,
          48.74002145,
          48.63379555,
          48.57695865,
          48.9692581,
          48.99262965,
          48.983555249999995,
          48.77210695,
          49.2549479,
          49.5107071,
          50.7396639,
          50.7653265,
          49.3576636,
          49.26489755,
          49.8625737,
          50.4047303,
          49.7585799,
          50.2954202,
          49.4179497,
          50.4625336,
          50.371801733333335,
          49.825,
          49.33314875,
          50.267112499999996,
          49.564665,
          50.5132793,
          49.24458335,
          49.0859622,
          49.8075,
          50.9946103,
          50.626484966666666,
          50.2706461,
          50.7259985,
          50.7009708,
          49.3669433,
          50.33598,
          50.4474101,
          50.75309876666667,
          51.0347708,
          48.5911631,
          48.54035674,
          49.1515848,
          49.0211111,
          48.0414946,
          48.34180046666667,
          48.8911882,
          49.18604606666666,
          49.3043497,
          49.1043397,
          16.1876131,
          48.1955731,
          49.2162403,
          48.71570046666667,
          48.8659947,
          49.2256191,
          48.9038723,
          47.77133148,
          48.0926885,
          48.7578703,
          49.1715929,
          48.937627066666664,
          46.0787621,
          46.901973975,
          46.4199195,
          45.5326,
          44.832558250000005,
          43.6820056,
          43.5405622,
          45.159878866666666,
          45.8354243,
          44.7411574,
          44.9088982,
          44.779739,
          44.3176767,
          45.6738081,
          48.348726125,
          48.085714779999996,
          48.054316,
          47.6586772,
          48.46244615,
          47.975933925,
          48.649518,
          48.5561462,
          48.1789536,
          48.1627273,
          47.5091856,
          46.0345572,
          45.18165195,
          45.7229294,
          50.23409545,
          45.63022655,
          45.63952185,
          47.52545,
          46.0205,
          46.3400296,
          44.45274725,
          45.803251233333334,
          45.806798,
          44.7177,
          45.4758225,
          45.78380228,
          46.27117145,
          44.8103125,
          46.0157993,
          45.283716375,
          46.0437504,
          45.8306,
          44.9285441,
          43.737415350000006,
          43.760691449999996,
          42.94114825,
          43.60671536666667,
          43.544482933333335,
          43.533462166666666,
          43.9278982,
          44.9332277,
          44.03162786,
          43.7846,
          33.7500378,
          43.4051396,
          43.3973905,
          43.680361575,
          47.0371,
          47.4575385,
          46.4810422,
          47.507832,
          47.2380222,
          49.0984117,
          46.9040348,
          46.661639775,
          47.7497988,
          45.1950183,
          47.231824474999996,
          46.431063
         ],
         "legendgroup": "",
         "lon": [
          -0.7112647906003546,
          -2.2138905,
          -1.115343264783899,
          -0.86896918,
          -1.3456661,
          0.19678490000000004,
          -0.3864208157082929,
          -1.55755586,
          4.7607483,
          1.6561555999999997,
          5.00451,
          0.7189761,
          -0.5957870000000001,
          2.7413128,
          1.42001725,
          2.3972819567297945,
          1.62710868,
          0.8211488,
          0.6622352999999999,
          0.7456752,
          0.991226,
          1.45838964,
          2.0564527249999998,
          2.738158032225153,
          2.399125,
          1.8119748666666666,
          0.8780649692233152,
          1.2323700025360618,
          1.05857804,
          0.18938065999999998,
          2.3141984,
          -0.022338599999999986,
          1.4175744,
          0.4471863,
          -0.38069450000000005,
          -0.8872594458318378,
          2.5626700000000002,
          2.69686735,
          2.292005473906692,
          2.4884015,
          2.9557006,
          1.19692,
          2.39164,
          2.6294364666666667,
          2.8478956,
          5.7302769,
          2.3301301,
          2.27227325,
          2.1360730500000003,
          2.78704575,
          2.3370667000000003,
          2.3978135,
          2.47003715,
          2.9349893,
          1.8226483,
          2.622352625,
          1.9740938,
          3.0909275,
          2.9231228,
          2.3062068,
          3.0066319,
          2.7176908,
          2.4765742499999996,
          2.4225779000000003,
          3.402865333333333,
          2.7962062999999997,
          3.914409,
          2.8263171,
          3.0166071,
          3.542225366666667,
          3.2705556,
          2.1089221,
          3.12169925,
          3.620686,
          2.66003735,
          3.35388885,
          2.7442236,
          3.3458333,
          2.2192457,
          3.1191470333333333,
          2.8939069,
          1.6118771,
          2.847306533333333,
          2.7439069,
          2.786451366666667,
          2.9069712666666665,
          3.1354654666666666,
          2.3772525,
          7.4625051,
          7.6828851799999995,
          6.1519224,
          0.3250000000000002,
          7.45930995,
          3.8941453333333333,
          6.0924226,
          4.0055725,
          6.1041352,
          6.7071754,
          -15.295450200000001,
          6.4364631,
          2.9549603,
          6.156091833333333,
          7.6823034,
          6.2197994,
          5.14769115,
          7.4209966000000005,
          6.6112215,
          7.78617125,
          6.935203,
          4.304100133333334,
          -1.0784882333333332,
          -0.4365005776437005,
          -0.003232749999999982,
          5.51253,
          -0.60945365,
          -0.5491330333333333,
          -1.4611915,
          1.4231756666666666,
          1.2644847,
          -0.6841225,
          -0.6300363,
          -0.3477993,
          0.3651248,
          -0.3151879,
          -4.207295725,
          -1.72289458,
          -2.5758222,
          -2.7599079,
          -2.516502292079859,
          -3.580257675,
          -2.0260409,
          -3.1846229,
          -1.2258363333333335,
          -1.4521079499999998,
          6.6967773,
          4.0729178,
          4.8259267,
          5.91861655,
          2.1572498500000004,
          5.061898275,
          4.83040015,
          4.29711,
          4.09203,
          2.6073963,
          4.760525250000001,
          3.130629933333333,
          4.913044833333333,
          4.54685,
          4.288774125,
          5.06282396,
          5.676916647475023,
          4.8024803333333335,
          4.7621660666666665,
          5.5418687250000005,
          4.0337193,
          5.28959,
          2.4433101,
          1.386333,
          4.28479455,
          2.9497621,
          1.4647618333333334,
          3.830380533333333,
          1.3520929666666666,
          1.3070367333333335,
          4.8920811,
          4.89524472,
          7.187850000000001,
          -117.8704931,
          5.32725932,
          4.9287265,
          5.002727525,
          5.40338,
          5.5818459,
          3.9786291,
          6.8617959,
          6.0243622,
          1.4547249999999998,
          6.3546345,
          4.8530652750000005,
          3.6667379666666666,
          5.6869624,
          5.018803575,
          5.7255731
         ],
         "marker": {
          "color": [
           "orange",
           "orange",
           "orange",
           "orange",
           "blue",
           "blue",
           "orange",
           "green",
           "blue",
           "blue",
           "blue",
           "green",
           "green",
           "blue",
           "orange",
           "green",
           "green",
           "blue",
           "blue",
           "green",
           "blue",
           "blue",
           "blue",
           "blue",
           "blue",
           "blue",
           "blue",
           "green",
           "blue",
           "blue",
           "blue",
           "blue",
           "green",
           "green",
           "blue",
           "blue",
           "orange",
           "blue",
           "blue",
           "blue",
           "blue",
           "blue",
           "blue",
           "blue",
           "green",
           "blue",
           "blue",
           "green",
           "blue",
           "blue",
           "green",
           "green",
           "orange",
           "blue",
           "blue",
           "blue",
           "green",
           "blue",
           "blue",
           "blue",
           "blue",
           "green",
           "blue",
           "green",
           "blue",
           "green",
           "green",
           "blue",
           "blue",
           "blue",
           "orange",
           "green",
           "blue",
           "blue",
           "blue",
           "blue",
           "blue",
           "green",
           "green",
           "blue",
           "green",
           "orange",
           "blue",
           "blue",
           "blue",
           "blue",
           "blue",
           "green",
           "green",
           "blue",
           "green",
           "green",
           "blue",
           "blue",
           "blue",
           "green",
           "blue",
           "green",
           "blue",
           "blue",
           "blue",
           "blue",
           "blue",
           "blue",
           "blue",
           "blue",
           "blue",
           "blue",
           "blue",
           "blue",
           "blue",
           "orange",
           "blue",
           "blue",
           "blue",
           "green",
           "blue",
           "blue",
           "green",
           "orange",
           "blue",
           "blue",
           "blue",
           "green",
           "blue",
           "blue",
           "blue",
           "blue",
           "blue",
           "blue",
           "blue",
           "blue",
           "blue",
           "blue",
           "blue",
           "blue",
           "blue",
           "blue",
           "blue",
           "blue",
           "blue",
           "blue",
           "blue",
           "blue",
           "blue",
           "blue",
           "blue",
           "green",
           "blue",
           "blue",
           "blue",
           "blue",
           "blue",
           "blue",
           "blue",
           "blue",
           "blue",
           "green",
           "blue",
           "orange",
           "green",
           "blue",
           "blue",
           "blue",
           "blue",
           "green",
           "blue",
           "orange",
           "green",
           "blue",
           "blue",
           "green",
           "blue",
           "blue",
           "blue",
           "green",
           "blue",
           "green",
           "blue",
           "blue",
           "green",
           "blue",
           "orange"
          ],
          "size": [
           18,
           18,
           18,
           18,
           6,
           6,
           18,
           12,
           6,
           6,
           6,
           12,
           12,
           6,
           18,
           12,
           12,
           6,
           6,
           12,
           6,
           6,
           6,
           6,
           6,
           6,
           6,
           12,
           6,
           6,
           6,
           6,
           12,
           12,
           6,
           6,
           18,
           6,
           6,
           6,
           6,
           6,
           6,
           6,
           12,
           6,
           6,
           12,
           6,
           6,
           12,
           12,
           18,
           6,
           6,
           6,
           12,
           6,
           6,
           6,
           6,
           12,
           6,
           12,
           6,
           12,
           12,
           6,
           6,
           6,
           18,
           12,
           6,
           6,
           6,
           6,
           6,
           12,
           12,
           6,
           12,
           18,
           6,
           6,
           6,
           6,
           6,
           12,
           12,
           6,
           12,
           12,
           6,
           6,
           6,
           12,
           6,
           12,
           6,
           6,
           6,
           6,
           6,
           6,
           6,
           6,
           6,
           6,
           6,
           6,
           6,
           18,
           6,
           6,
           6,
           12,
           6,
           6,
           12,
           18,
           6,
           6,
           6,
           12,
           6,
           6,
           6,
           6,
           6,
           6,
           6,
           6,
           6,
           6,
           6,
           6,
           6,
           6,
           6,
           6,
           6,
           6,
           6,
           6,
           6,
           6,
           6,
           12,
           6,
           6,
           6,
           6,
           6,
           6,
           6,
           6,
           6,
           12,
           6,
           18,
           12,
           6,
           6,
           6,
           6,
           12,
           6,
           18,
           12,
           6,
           6,
           12,
           6,
           6,
           6,
           12,
           6,
           12,
           6,
           6,
           12,
           6,
           18
          ]
         },
         "mode": "markers",
         "name": "",
         "showlegend": false,
         "subplot": "mapbox",
         "type": "scattermapbox"
        }
       ],
       "layout": {
        "height": 800,
        "legend": {
         "tracegroupgap": 0
        },
        "mapbox": {
         "center": {
          "lat": 47.45857385219946,
          "lon": 1.9434487499569113
         },
         "domain": {
          "x": [
           0,
           1
          ],
          "y": [
           0,
           1
          ]
         },
         "style": "open-street-map",
         "zoom": 5
        },
        "margin": {
         "b": 0,
         "l": 0,
         "r": 0,
         "t": 0
        },
        "template": {
         "data": {
          "bar": [
           {
            "error_x": {
             "color": "#2a3f5f"
            },
            "error_y": {
             "color": "#2a3f5f"
            },
            "marker": {
             "line": {
              "color": "#E5ECF6",
              "width": 0.5
             },
             "pattern": {
              "fillmode": "overlay",
              "size": 10,
              "solidity": 0.2
             }
            },
            "type": "bar"
           }
          ],
          "barpolar": [
           {
            "marker": {
             "line": {
              "color": "#E5ECF6",
              "width": 0.5
             },
             "pattern": {
              "fillmode": "overlay",
              "size": 10,
              "solidity": 0.2
             }
            },
            "type": "barpolar"
           }
          ],
          "carpet": [
           {
            "aaxis": {
             "endlinecolor": "#2a3f5f",
             "gridcolor": "white",
             "linecolor": "white",
             "minorgridcolor": "white",
             "startlinecolor": "#2a3f5f"
            },
            "baxis": {
             "endlinecolor": "#2a3f5f",
             "gridcolor": "white",
             "linecolor": "white",
             "minorgridcolor": "white",
             "startlinecolor": "#2a3f5f"
            },
            "type": "carpet"
           }
          ],
          "choropleth": [
           {
            "colorbar": {
             "outlinewidth": 0,
             "ticks": ""
            },
            "type": "choropleth"
           }
          ],
          "contour": [
           {
            "colorbar": {
             "outlinewidth": 0,
             "ticks": ""
            },
            "colorscale": [
             [
              0,
              "#0d0887"
             ],
             [
              0.1111111111111111,
              "#46039f"
             ],
             [
              0.2222222222222222,
              "#7201a8"
             ],
             [
              0.3333333333333333,
              "#9c179e"
             ],
             [
              0.4444444444444444,
              "#bd3786"
             ],
             [
              0.5555555555555556,
              "#d8576b"
             ],
             [
              0.6666666666666666,
              "#ed7953"
             ],
             [
              0.7777777777777778,
              "#fb9f3a"
             ],
             [
              0.8888888888888888,
              "#fdca26"
             ],
             [
              1,
              "#f0f921"
             ]
            ],
            "type": "contour"
           }
          ],
          "contourcarpet": [
           {
            "colorbar": {
             "outlinewidth": 0,
             "ticks": ""
            },
            "type": "contourcarpet"
           }
          ],
          "heatmap": [
           {
            "colorbar": {
             "outlinewidth": 0,
             "ticks": ""
            },
            "colorscale": [
             [
              0,
              "#0d0887"
             ],
             [
              0.1111111111111111,
              "#46039f"
             ],
             [
              0.2222222222222222,
              "#7201a8"
             ],
             [
              0.3333333333333333,
              "#9c179e"
             ],
             [
              0.4444444444444444,
              "#bd3786"
             ],
             [
              0.5555555555555556,
              "#d8576b"
             ],
             [
              0.6666666666666666,
              "#ed7953"
             ],
             [
              0.7777777777777778,
              "#fb9f3a"
             ],
             [
              0.8888888888888888,
              "#fdca26"
             ],
             [
              1,
              "#f0f921"
             ]
            ],
            "type": "heatmap"
           }
          ],
          "heatmapgl": [
           {
            "colorbar": {
             "outlinewidth": 0,
             "ticks": ""
            },
            "colorscale": [
             [
              0,
              "#0d0887"
             ],
             [
              0.1111111111111111,
              "#46039f"
             ],
             [
              0.2222222222222222,
              "#7201a8"
             ],
             [
              0.3333333333333333,
              "#9c179e"
             ],
             [
              0.4444444444444444,
              "#bd3786"
             ],
             [
              0.5555555555555556,
              "#d8576b"
             ],
             [
              0.6666666666666666,
              "#ed7953"
             ],
             [
              0.7777777777777778,
              "#fb9f3a"
             ],
             [
              0.8888888888888888,
              "#fdca26"
             ],
             [
              1,
              "#f0f921"
             ]
            ],
            "type": "heatmapgl"
           }
          ],
          "histogram": [
           {
            "marker": {
             "pattern": {
              "fillmode": "overlay",
              "size": 10,
              "solidity": 0.2
             }
            },
            "type": "histogram"
           }
          ],
          "histogram2d": [
           {
            "colorbar": {
             "outlinewidth": 0,
             "ticks": ""
            },
            "colorscale": [
             [
              0,
              "#0d0887"
             ],
             [
              0.1111111111111111,
              "#46039f"
             ],
             [
              0.2222222222222222,
              "#7201a8"
             ],
             [
              0.3333333333333333,
              "#9c179e"
             ],
             [
              0.4444444444444444,
              "#bd3786"
             ],
             [
              0.5555555555555556,
              "#d8576b"
             ],
             [
              0.6666666666666666,
              "#ed7953"
             ],
             [
              0.7777777777777778,
              "#fb9f3a"
             ],
             [
              0.8888888888888888,
              "#fdca26"
             ],
             [
              1,
              "#f0f921"
             ]
            ],
            "type": "histogram2d"
           }
          ],
          "histogram2dcontour": [
           {
            "colorbar": {
             "outlinewidth": 0,
             "ticks": ""
            },
            "colorscale": [
             [
              0,
              "#0d0887"
             ],
             [
              0.1111111111111111,
              "#46039f"
             ],
             [
              0.2222222222222222,
              "#7201a8"
             ],
             [
              0.3333333333333333,
              "#9c179e"
             ],
             [
              0.4444444444444444,
              "#bd3786"
             ],
             [
              0.5555555555555556,
              "#d8576b"
             ],
             [
              0.6666666666666666,
              "#ed7953"
             ],
             [
              0.7777777777777778,
              "#fb9f3a"
             ],
             [
              0.8888888888888888,
              "#fdca26"
             ],
             [
              1,
              "#f0f921"
             ]
            ],
            "type": "histogram2dcontour"
           }
          ],
          "mesh3d": [
           {
            "colorbar": {
             "outlinewidth": 0,
             "ticks": ""
            },
            "type": "mesh3d"
           }
          ],
          "parcoords": [
           {
            "line": {
             "colorbar": {
              "outlinewidth": 0,
              "ticks": ""
             }
            },
            "type": "parcoords"
           }
          ],
          "pie": [
           {
            "automargin": true,
            "type": "pie"
           }
          ],
          "scatter": [
           {
            "fillpattern": {
             "fillmode": "overlay",
             "size": 10,
             "solidity": 0.2
            },
            "type": "scatter"
           }
          ],
          "scatter3d": [
           {
            "line": {
             "colorbar": {
              "outlinewidth": 0,
              "ticks": ""
             }
            },
            "marker": {
             "colorbar": {
              "outlinewidth": 0,
              "ticks": ""
             }
            },
            "type": "scatter3d"
           }
          ],
          "scattercarpet": [
           {
            "marker": {
             "colorbar": {
              "outlinewidth": 0,
              "ticks": ""
             }
            },
            "type": "scattercarpet"
           }
          ],
          "scattergeo": [
           {
            "marker": {
             "colorbar": {
              "outlinewidth": 0,
              "ticks": ""
             }
            },
            "type": "scattergeo"
           }
          ],
          "scattergl": [
           {
            "marker": {
             "colorbar": {
              "outlinewidth": 0,
              "ticks": ""
             }
            },
            "type": "scattergl"
           }
          ],
          "scattermapbox": [
           {
            "marker": {
             "colorbar": {
              "outlinewidth": 0,
              "ticks": ""
             }
            },
            "type": "scattermapbox"
           }
          ],
          "scatterpolar": [
           {
            "marker": {
             "colorbar": {
              "outlinewidth": 0,
              "ticks": ""
             }
            },
            "type": "scatterpolar"
           }
          ],
          "scatterpolargl": [
           {
            "marker": {
             "colorbar": {
              "outlinewidth": 0,
              "ticks": ""
             }
            },
            "type": "scatterpolargl"
           }
          ],
          "scatterternary": [
           {
            "marker": {
             "colorbar": {
              "outlinewidth": 0,
              "ticks": ""
             }
            },
            "type": "scatterternary"
           }
          ],
          "surface": [
           {
            "colorbar": {
             "outlinewidth": 0,
             "ticks": ""
            },
            "colorscale": [
             [
              0,
              "#0d0887"
             ],
             [
              0.1111111111111111,
              "#46039f"
             ],
             [
              0.2222222222222222,
              "#7201a8"
             ],
             [
              0.3333333333333333,
              "#9c179e"
             ],
             [
              0.4444444444444444,
              "#bd3786"
             ],
             [
              0.5555555555555556,
              "#d8576b"
             ],
             [
              0.6666666666666666,
              "#ed7953"
             ],
             [
              0.7777777777777778,
              "#fb9f3a"
             ],
             [
              0.8888888888888888,
              "#fdca26"
             ],
             [
              1,
              "#f0f921"
             ]
            ],
            "type": "surface"
           }
          ],
          "table": [
           {
            "cells": {
             "fill": {
              "color": "#EBF0F8"
             },
             "line": {
              "color": "white"
             }
            },
            "header": {
             "fill": {
              "color": "#C8D4E3"
             },
             "line": {
              "color": "white"
             }
            },
            "type": "table"
           }
          ]
         },
         "layout": {
          "annotationdefaults": {
           "arrowcolor": "#2a3f5f",
           "arrowhead": 0,
           "arrowwidth": 1
          },
          "autotypenumbers": "strict",
          "coloraxis": {
           "colorbar": {
            "outlinewidth": 0,
            "ticks": ""
           }
          },
          "colorscale": {
           "diverging": [
            [
             0,
             "#8e0152"
            ],
            [
             0.1,
             "#c51b7d"
            ],
            [
             0.2,
             "#de77ae"
            ],
            [
             0.3,
             "#f1b6da"
            ],
            [
             0.4,
             "#fde0ef"
            ],
            [
             0.5,
             "#f7f7f7"
            ],
            [
             0.6,
             "#e6f5d0"
            ],
            [
             0.7,
             "#b8e186"
            ],
            [
             0.8,
             "#7fbc41"
            ],
            [
             0.9,
             "#4d9221"
            ],
            [
             1,
             "#276419"
            ]
           ],
           "sequential": [
            [
             0,
             "#0d0887"
            ],
            [
             0.1111111111111111,
             "#46039f"
            ],
            [
             0.2222222222222222,
             "#7201a8"
            ],
            [
             0.3333333333333333,
             "#9c179e"
            ],
            [
             0.4444444444444444,
             "#bd3786"
            ],
            [
             0.5555555555555556,
             "#d8576b"
            ],
            [
             0.6666666666666666,
             "#ed7953"
            ],
            [
             0.7777777777777778,
             "#fb9f3a"
            ],
            [
             0.8888888888888888,
             "#fdca26"
            ],
            [
             1,
             "#f0f921"
            ]
           ],
           "sequentialminus": [
            [
             0,
             "#0d0887"
            ],
            [
             0.1111111111111111,
             "#46039f"
            ],
            [
             0.2222222222222222,
             "#7201a8"
            ],
            [
             0.3333333333333333,
             "#9c179e"
            ],
            [
             0.4444444444444444,
             "#bd3786"
            ],
            [
             0.5555555555555556,
             "#d8576b"
            ],
            [
             0.6666666666666666,
             "#ed7953"
            ],
            [
             0.7777777777777778,
             "#fb9f3a"
            ],
            [
             0.8888888888888888,
             "#fdca26"
            ],
            [
             1,
             "#f0f921"
            ]
           ]
          },
          "colorway": [
           "#636efa",
           "#EF553B",
           "#00cc96",
           "#ab63fa",
           "#FFA15A",
           "#19d3f3",
           "#FF6692",
           "#B6E880",
           "#FF97FF",
           "#FECB52"
          ],
          "font": {
           "color": "#2a3f5f"
          },
          "geo": {
           "bgcolor": "white",
           "lakecolor": "white",
           "landcolor": "#E5ECF6",
           "showlakes": true,
           "showland": true,
           "subunitcolor": "white"
          },
          "hoverlabel": {
           "align": "left"
          },
          "hovermode": "closest",
          "mapbox": {
           "style": "light"
          },
          "paper_bgcolor": "white",
          "plot_bgcolor": "#E5ECF6",
          "polar": {
           "angularaxis": {
            "gridcolor": "white",
            "linecolor": "white",
            "ticks": ""
           },
           "bgcolor": "#E5ECF6",
           "radialaxis": {
            "gridcolor": "white",
            "linecolor": "white",
            "ticks": ""
           }
          },
          "scene": {
           "xaxis": {
            "backgroundcolor": "#E5ECF6",
            "gridcolor": "white",
            "gridwidth": 2,
            "linecolor": "white",
            "showbackground": true,
            "ticks": "",
            "zerolinecolor": "white"
           },
           "yaxis": {
            "backgroundcolor": "#E5ECF6",
            "gridcolor": "white",
            "gridwidth": 2,
            "linecolor": "white",
            "showbackground": true,
            "ticks": "",
            "zerolinecolor": "white"
           },
           "zaxis": {
            "backgroundcolor": "#E5ECF6",
            "gridcolor": "white",
            "gridwidth": 2,
            "linecolor": "white",
            "showbackground": true,
            "ticks": "",
            "zerolinecolor": "white"
           }
          },
          "shapedefaults": {
           "line": {
            "color": "#2a3f5f"
           }
          },
          "ternary": {
           "aaxis": {
            "gridcolor": "white",
            "linecolor": "white",
            "ticks": ""
           },
           "baxis": {
            "gridcolor": "white",
            "linecolor": "white",
            "ticks": ""
           },
           "bgcolor": "#E5ECF6",
           "caxis": {
            "gridcolor": "white",
            "linecolor": "white",
            "ticks": ""
           }
          },
          "title": {
           "x": 0.05
          },
          "xaxis": {
           "automargin": true,
           "gridcolor": "white",
           "linecolor": "white",
           "ticks": "",
           "title": {
            "standoff": 15
           },
           "zerolinecolor": "white",
           "zerolinewidth": 2
          },
          "yaxis": {
           "automargin": true,
           "gridcolor": "white",
           "linecolor": "white",
           "ticks": "",
           "title": {
            "standoff": 15
           },
           "zerolinecolor": "white",
           "zerolinewidth": 2
          }
         }
        },
        "width": 800
       }
      }
     },
     "metadata": {},
     "output_type": "display_data"
    }
   ],
   "source": [
    "fig.show()"
   ]
  },
  {
   "cell_type": "code",
   "execution_count": 93,
   "metadata": {},
   "outputs": [
    {
     "data": {
      "text/plain": [
       "15"
      ]
     },
     "execution_count": 93,
     "metadata": {},
     "output_type": "execute_result"
    }
   ],
   "source": [
    "df_stations_type.stations_type.value_counts()[\"large\"]"
   ]
  },
  {
   "cell_type": "code",
   "execution_count": null,
   "metadata": {},
   "outputs": [],
   "source": []
  }
 ],
 "metadata": {
  "kernelspec": {
   "display_name": "AirLiquide",
   "language": "python",
   "name": "env_al"
  },
  "language_info": {
   "codemirror_mode": {
    "name": "ipython",
    "version": 3
   },
   "file_extension": ".py",
   "mimetype": "text/x-python",
   "name": "python",
   "nbconvert_exporter": "python",
   "pygments_lexer": "ipython3",
   "version": "3.9.6"
  },
  "orig_nbformat": 4
 },
 "nbformat": 4,
 "nbformat_minor": 2
}
